{
 "cells": [
  {
   "cell_type": "code",
   "execution_count": 1,
   "metadata": {},
   "outputs": [],
   "source": [
    "from mesa import Agent, Model\n",
    "from mesa.space import MultiGrid\n",
    "from mesa.time import RandomActivation\n",
    "import matplotlib.pyplot as plt\n",
    "%matplotlib inline"
   ]
  },
  {
   "cell_type": "code",
   "execution_count": 110,
   "metadata": {},
   "outputs": [],
   "source": [
    "class Lobo(Agent):\n",
    "    # Agentes que se comen a las ovejas.\n",
    "    def __init__(self, unique_id, pos,e,model):\n",
    "        # la clase agente guarda los ids y los enlaza con el modelo \n",
    "        super().__init__(unique_id,model)\n",
    "        # lobos tienen energia, y una posicion \n",
    "        self.energia = e\n",
    "        self.pos = pos\n",
    "    \n",
    "    def move(self):\n",
    "        # get_neighbourhood es utilidad de mesa pa devolver los vecinos\n",
    "        possible_steps = self.model.grid.get_neighborhood(\n",
    "            self.pos,\n",
    "            moore=False,\n",
    "            include_center=False)\n",
    "        new_position = self.random.choice(possible_steps)\n",
    "        self.model.grid.move_agent(self, new_position)\n",
    "        \n",
    "    def step(self):\n",
    "        self.move()\n",
    "         \n",
    "        # comerse alguna oveja que este en su grilla \n",
    "        cellmates = self.model.grid.get_cell_list_contents([self.pos])\n",
    "        sheep = [obj for obj in cellmates if isinstance(obj, Oveja)]\n",
    "        if len(sheep)>0: \n",
    "            victima = self.random.choice(sheep)\n",
    "            self.model.grid._remove_agent(self.pos, victima)\n",
    "            self.model.schedule.remove(victima)\n",
    "            self.energia += 10\n",
    "            \n",
    "        # tener hijos           \n",
    "        if self.model.random.randint(1,10) < 2: \n",
    "            self.energia /= 2\n",
    "            hijo = Lobo(self.model.next_id(),self.pos,self.energia,self.model)\n",
    "            self.model.grid.place_agent(hijo, hijo.pos)\n",
    "            self.model.schedule.add(hijo)\n",
    "            \n",
    "        #si no tengo energia, muero \n",
    "        self.energia -= 1\n",
    "        if self.energia < 1: \n",
    "            self.model.grid._remove_agent(self.pos, self)\n",
    "            self.model.schedule.remove(self)\n",
    "            return\n",
    "        \n"
   ]
  },
  {
   "cell_type": "code",
   "execution_count": 116,
   "metadata": {},
   "outputs": [],
   "source": [
    "class Oveja(Agent):\n",
    "    def __init__(self, unique_id,pos, model):\n",
    "        super().__init__(unique_id, model)\n",
    "        self.pos = pos\n",
    "\n",
    "    def move(self):\n",
    "        possible_steps = self.model.grid.get_neighborhood(\n",
    "            self.pos,\n",
    "            moore=False,\n",
    "            include_center=False)\n",
    "        new_position = self.random.choice(possible_steps)\n",
    "        self.model.grid.move_agent(self, new_position)\n",
    "        \n",
    "    def step(self):\n",
    "        self.move()\n",
    "            \n",
    "        if self.model.random.randint(1,10) < 3: \n",
    "            hija = Oveja(self.model.next_id(),self.pos,self.model)\n",
    "            self.model.grid.place_agent(hija, hija.pos)\n",
    "            self.model.schedule.add(hija)\n",
    "            "
   ]
  },
  {
   "cell_type": "code",
   "execution_count": 117,
   "metadata": {},
   "outputs": [],
   "source": [
    "class Lobooveja(Model):\n",
    "    def __init__(self, N,M, width, height):\n",
    "        self.num_lobos = N\n",
    "        self.num_ovejas = M\n",
    "        self.grid = MultiGrid(width, height, True)\n",
    "        self.schedule = RandomActivation(self)\n",
    "        self.current_id = 0\n",
    "        # Create agents\n",
    "        for i in range(self.num_lobos):\n",
    "            x = self.random.randrange(self.grid.width)\n",
    "            y = self.random.randrange(self.grid.height)\n",
    "            l = Lobo(self.next_id(),(x,y),15,self)\n",
    "            self.schedule.add(l)\n",
    "            # Add the agent to a random grid cell\n",
    "            self.grid.place_agent(l, (x, y))\n",
    "        # Create agents\n",
    "        for i in range(self.num_ovejas):\n",
    "            x = self.random.randrange(self.grid.width)\n",
    "            y = self.random.randrange(self.grid.height)\n",
    "            o = Oveja(self.next_id(),(x,y),self)\n",
    "            self.schedule.add(o)\n",
    "            # Add the agent to a random grid cell\n",
    "            self.grid.place_agent(o, (x, y))      \n",
    "\n",
    "    def step(self):\n",
    "        self.schedule.step()"
   ]
  },
  {
   "cell_type": "code",
   "execution_count": 118,
   "metadata": {},
   "outputs": [],
   "source": [
    "ovejas = []\n",
    "lobos = []\n",
    "for j in range(2):\n",
    "    ovejas.append([])\n",
    "    lobos.append([])\n",
    "    model = Lobooveja(10,30, 10, 10)\n",
    "    for i in range(200):\n",
    "        model.step()\n",
    "        ovejas[j].append(0)\n",
    "        lobos[j].append(0)\n",
    "        for a in model.schedule.agents:\n",
    "            if isinstance(a,Oveja): \n",
    "                ovejas[j][i]+=1\n",
    "            else:\n",
    "                lobos[j][i]+=1\n",
    "    \n",
    "    "
   ]
  },
  {
   "cell_type": "code",
   "execution_count": 119,
   "metadata": {},
   "outputs": [
    {
     "data": {
      "text/plain": [
       "<matplotlib.legend.Legend at 0x11e2ce438>"
      ]
     },
     "execution_count": 119,
     "metadata": {},
     "output_type": "execute_result"
    },
    {
     "data": {
      "image/png": "[encoded data removed]",
      "text/plain": [
       "<Figure size 432x288 with 2 Axes>"
      ]
     },
     "metadata": {
      "needs_background": "light"
     },
     "output_type": "display_data"
    }
   ],
   "source": [
    "plt.subplot(2,1,1)\n",
    "plt.plot(ovejas[0], label = \"ovejas\")\n",
    "plt.plot(lobos[0], label = \"lobos\")\n",
    "plt.legend()\n",
    "\n",
    "plt.subplot(2,1,2)\n",
    "plt.plot(ovejas[1], label = \"ovejas\")\n",
    "plt.plot(lobos[1], label = \"lobos\")\n",
    "plt.legend()\n"
   ]
  },
  {
   "cell_type": "code",
   "execution_count": null,
   "metadata": {},
   "outputs": [],
   "source": []
  }
 ],
 "metadata": {
  "kernelspec": {
   "display_name": "Python 3",
   "language": "python",
   "name": "python3"
  },
  "language_info": {
   "codemirror_mode": {
    "name": "ipython",
    "version": 3
   },
   "file_extension": ".py",
   "mimetype": "text/x-python",
   "name": "python",
   "nbconvert_exporter": "python",
   "pygments_lexer": "ipython3",
   "version": "3.7.0"
  }
 },
 "nbformat": 4,
 "nbformat_minor": 2
}
